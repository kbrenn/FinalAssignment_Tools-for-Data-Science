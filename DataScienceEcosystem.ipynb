{
 "cells": [
  {
   "cell_type": "markdown",
   "id": "2e1b0c57",
   "metadata": {},
   "source": [
    "# Data Science Ecosystem"
   ]
  },
  {
   "cell_type": "markdown",
   "id": "d8e2034d",
   "metadata": {},
   "source": [
    "In this notebook, Data Science tools and Ecosystems are summarized. "
   ]
  },
  {
   "cell_type": "markdown",
   "id": "07f40ecb",
   "metadata": {},
   "source": [
    "**Objectives**\n",
    "* List Popular Languages\n",
    "* List Commonly Used Libraries\n",
    "* Lit Open Source Tools\n",
    "* Arithmatic Expressions Examples"
   ]
  },
  {
   "cell_type": "markdown",
   "id": "c4e1181a",
   "metadata": {},
   "source": [
    "Some of the most popular languages Data Scientists use are:\n",
    "1. SQL\n",
    "1. Python\n",
    "1. R"
   ]
  },
  {
   "cell_type": "markdown",
   "id": "362a8d42",
   "metadata": {},
   "source": [
    "Some of the most commonly used libraries in Data Science are:\n",
    "1. Pandas\n",
    "1. Numpy\n",
    "1. Matplotlib\n",
    "1. Seaborn\n",
    "1. Scikit-learn\n",
    "1. Keras\n",
    "1. TensorFlow\n",
    "1. PyTorch\n"
   ]
  },
  {
   "cell_type": "markdown",
   "id": "1ebb9885",
   "metadata": {},
   "source": [
    "|Data Science Tools|\n",
    "|---|\n",
    "|Jupyter Notebooks|\n",
    "|RStudio|\n",
    "|Apache Zeppelin|\n",
    "|Spyder|"
   ]
  },
  {
   "cell_type": "markdown",
   "id": "b958e362",
   "metadata": {},
   "source": [
    "### Below are a few examples of evaluating arithmatic expessions in Python"
   ]
  },
  {
   "cell_type": "code",
   "execution_count": 1,
   "id": "d76eaca6",
   "metadata": {},
   "outputs": [
    {
     "data": {
      "text/plain": [
       "17"
      ]
     },
     "execution_count": 1,
     "metadata": {},
     "output_type": "execute_result"
    }
   ],
   "source": [
    "#This is a simple arithmatic expression to multiply then add integers\n",
    "(3*4)+5"
   ]
  },
  {
   "cell_type": "code",
   "execution_count": 2,
   "id": "c204a1ce",
   "metadata": {},
   "outputs": [
    {
     "data": {
      "text/plain": [
       "3.3333333333333335"
      ]
     },
     "execution_count": 2,
     "metadata": {},
     "output_type": "execute_result"
    }
   ],
   "source": [
    "#This will convert 200 minutes into hours by dividing by 60\n",
    "200/60"
   ]
  },
  {
   "cell_type": "markdown",
   "id": "61eed909",
   "metadata": {},
   "source": [
    "## Author\n",
    "Kelley Brennan"
   ]
  },
  {
   "cell_type": "code",
   "execution_count": null,
   "id": "adb61fac",
   "metadata": {},
   "outputs": [],
   "source": []
  }
 ],
 "metadata": {
  "kernelspec": {
   "display_name": "Python 3 (ipykernel)",
   "language": "python",
   "name": "python3"
  },
  "language_info": {
   "codemirror_mode": {
    "name": "ipython",
    "version": 3
   },
   "file_extension": ".py",
   "mimetype": "text/x-python",
   "name": "python",
   "nbconvert_exporter": "python",
   "pygments_lexer": "ipython3",
   "version": "3.10.9"
  }
 },
 "nbformat": 4,
 "nbformat_minor": 5
}
